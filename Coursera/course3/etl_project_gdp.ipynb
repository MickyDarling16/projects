{
 "cells": [
  {
   "cell_type": "code",
   "execution_count": 4,
   "id": "188650a6",
   "metadata": {},
   "outputs": [],
   "source": [
    "import pandas as pd, requests, sqlite3 as sql3, datetime\n",
    "from bs4 import BeautifulSoup"
   ]
  },
  {
   "cell_type": "code",
   "execution_count": 143,
   "id": "f9b31a42",
   "metadata": {},
   "outputs": [],
   "source": [
    "url = 'https://web.archive.org/web/20230902185326/https://en.wikipedia.org/wiki/List_of_countries_by_GDP_%28nominal%29'\n",
    "\n",
    "\n",
    "target_file = 'countries_by_GDP.csv'\n",
    "log_file = 'etl_project_log.txt'\n",
    "db_name = 'world_economies.db'\n",
    "table_name = 'countries_by_GDP'\n",
    "attributes = ['Country', 'GDP_USD_millions']"
   ]
  },
  {
   "cell_type": "code",
   "execution_count": 6,
   "id": "985ca361",
   "metadata": {},
   "outputs": [],
   "source": [
    "r = requests.get(url)"
   ]
  },
  {
   "cell_type": "code",
   "execution_count": 30,
   "id": "a689d130",
   "metadata": {},
   "outputs": [],
   "source": [
    "html_text_parsed = BeautifulSoup(r.text, 'html.parser')\n",
    "all_table = html_text_parsed.find_all('tbody')\n",
    "target_table = all_table[2]\n",
    "\n",
    "rows = target_table.find_all('tr')"
   ]
  },
  {
   "cell_type": "code",
   "execution_count": 157,
   "id": "417268ea",
   "metadata": {},
   "outputs": [],
   "source": [
    "df = pd.DataFrame(columns=attributes)\n",
    "for row in rows:\n",
    "    td_data = row.find_all('td')\n",
    "    if len(td_data) != 0:\n",
    "        if td_data[0].find('a') is not None and td_data[2].get_text(strip=True) != '—':\n",
    "            i = 0\n",
    "            data = pd.DataFrame([{'Country': td_data[0].a.get_text(strip=True),\n",
    "                    'GDP_USD_millions': td_data[2].get_text(strip=True)\n",
    "                }])\n",
    "            df = pd.concat([df, data], ignore_index=True)"
   ]
  },
  {
   "cell_type": "code",
   "execution_count": 159,
   "id": "2ab1b021",
   "metadata": {},
   "outputs": [
    {
     "data": {
      "text/plain": [
       "0    [26, 854, 599]\n",
       "1    [19, 373, 586]\n",
       "2     [4, 409, 738]\n",
       "3     [4, 308, 854]\n",
       "4     [3, 736, 882]\n",
       "Name: GDP_USD_millions, dtype: object"
      ]
     },
     "execution_count": 159,
     "metadata": {},
     "output_type": "execute_result"
    }
   ],
   "source": [
    "# transform\n",
    "gdp = df['GDP_USD_millions'].copy()\n",
    "# gdp.head()\n",
    "gdp = gdp.apply(lambda x: x.split(','))\n",
    "gdp.head()\n",
    "# df['GDP_USD_millions'] = float()"
   ]
  }
 ],
 "metadata": {
  "kernelspec": {
   "display_name": "dtscience",
   "language": "python",
   "name": "python3"
  },
  "language_info": {
   "codemirror_mode": {
    "name": "ipython",
    "version": 3
   },
   "file_extension": ".py",
   "mimetype": "text/x-python",
   "name": "python",
   "nbconvert_exporter": "python",
   "pygments_lexer": "ipython3",
   "version": "3.13.5"
  }
 },
 "nbformat": 4,
 "nbformat_minor": 5
}
