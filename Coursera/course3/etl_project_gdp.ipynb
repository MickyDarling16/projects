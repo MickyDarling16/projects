{
 "cells": [
  {
   "cell_type": "code",
   "execution_count": 157,
   "id": "188650a6",
   "metadata": {},
   "outputs": [],
   "source": [
    "import pandas as pd, requests, sqlite3 as sql3, datetime, numpy as np\n",
    "from bs4 import BeautifulSoup"
   ]
  },
  {
   "cell_type": "code",
   "execution_count": 158,
   "id": "f9b31a42",
   "metadata": {},
   "outputs": [],
   "source": [
    "url = 'https://web.archive.org/web/20230902185326/https://en.wikipedia.org/wiki/List_of_countries_by_GDP_%28nominal%29'\n",
    "\n",
    "\n",
    "target_file = 'countries_by_GDP.csv'\n",
    "log_file = 'etl_project_log.txt'\n",
    "db_name = 'world_economies.db'\n",
    "table_name = 'countries_by_GDP'\n",
    "attributes = ['Country', 'GDP_USD_millions']"
   ]
  },
  {
   "cell_type": "code",
   "execution_count": 159,
   "id": "916c263d",
   "metadata": {},
   "outputs": [],
   "source": [
    "def extract_from_web(url : str, attributes : list) -> pd.DataFrame:\n",
    "    \"\"\"\n",
    "    This function extracts the required information (the table)\n",
    "    from the website into a dataframe variable\n",
    "    Parameters:\n",
    "        url (str): The URL of the webpage containing the required table.\n",
    "        attributes (list): A list containing the name of the columns of the dataframe.\n",
    "    Returns:\n",
    "        pd.DataFrame: DataFrame containing the extracted GDP table data.\n",
    "    \"\"\"\n",
    "    \n",
    "    r = requests.get(url)\n",
    "    html_text_parsed = BeautifulSoup(r.text, 'html.parser')\n",
    "    all_table = html_text_parsed.find_all('tbody')\n",
    "    target_table = all_table[2]\n",
    "\n",
    "    rows = target_table.find_all('tr')\n",
    "    df = pd.DataFrame(columns=attributes)\n",
    "    for row in rows:\n",
    "        td_data = row.find_all('td')\n",
    "        if len(td_data) != 0:\n",
    "            if td_data[0].find('a') is not None and td_data[2].get_text(strip=True) != '—':\n",
    "                i = 0\n",
    "                data = pd.DataFrame([{'Country': td_data[0].a.get_text(strip=True),\n",
    "                        'GDP_USD_millions': td_data[2].get_text(strip=True)\n",
    "                    }])\n",
    "                df = pd.concat([df, data], ignore_index=True)\n",
    "    return df"
   ]
  },
  {
   "cell_type": "code",
   "execution_count": null,
   "id": "f2226af7",
   "metadata": {},
   "outputs": [],
   "source": [
    "def transform(df : pd.DataFrame) -> pd.DataFrame:\n",
    "    \"\"\"\n",
    "    Transforms the input DataFrame by applying necessary data cleaning and processing steps\n",
    "    required for the ETL pipeline.\n",
    "\n",
    "    Args:\n",
    "        df (pd.DataFrame): The input DataFrame containing raw GDP data.\n",
    "\n",
    "    Returns:\n",
    "        pd.DataFrame: The transformed DataFrame ready for loading or further analysis.\n",
    "    \"\"\"\n",
    "    \n",
    "    # transform to float\n",
    "    gdp = df['GDP_USD_millions']\n",
    "    gdp = gdp.apply(lambda x: x.split(','))\n",
    "    gdp = gdp.apply(lambda x: float(''.join(x)))\n",
    "    \n",
    "    # Divide and round to 2 decimal places\n",
    "    gdp = gdp.apply(lambda x : round(x / 1000, 2))\n",
    "    df['GDP_USD_millions'] = gdp\n",
    "    df = df.rename(columns={'GDP_USD_millions': 'GDP_USD_billions'})\n",
    "    return df"
   ]
  },
  {
   "cell_type": "code",
   "execution_count": 161,
   "id": "22338f15",
   "metadata": {},
   "outputs": [],
   "source": [
    "def load_to_csv(df : pd.DataFrame, target_file : str) -> None:\n",
    "    \"\"\"\n",
    "    This function saves the transformed dataframe to csv target file\n",
    "    Parameters:\n",
    "        df (pd.DataFrame): Transformed and finalized GDP data.\n",
    "        target_file (str): The path to the target csv file where GDP info will be saved\n",
    "    Returns:\n",
    "        None\n",
    "    \"\"\"\n",
    "    df.to_csv(target_file)\n",
    "    return None"
   ]
  },
  {
   "cell_type": "code",
   "execution_count": 162,
   "id": "0ae74496",
   "metadata": {},
   "outputs": [],
   "source": [
    "def load_to_db(df :pd.DataFrame, db_name : str, table_name : str) -> None:\n",
    "    \"\"\"\n",
    "    Loads a pandas DataFrame into a specified table within a database.\n",
    "    Args:\n",
    "        df (pd.DataFrame): The DataFrame containing the data to be loaded.\n",
    "        db_name (str): The name or path of the target database.\n",
    "        table_name (str): The name of the table where data will be inserted.\n",
    "    Returns:\n",
    "        None\n",
    "    \"\"\"\n",
    "    db = sql3.connect(db_name)\n",
    "    df.to_sql(db_name, table_name, if_exists='replace')\n",
    "    db.close()\n",
    "    return None"
   ]
  },
  {
   "cell_type": "code",
   "execution_count": 163,
   "id": "07298c2e",
   "metadata": {},
   "outputs": [],
   "source": [
    "def query_database(db_name : str, query_statement : str) -> None:\n",
    "    db = sql3.connect(db_name)\n",
    "    output = pd.read_sql(query_statement, db)\n",
    "    print(output)\n",
    "    db.close()"
   ]
  },
  {
   "cell_type": "code",
   "execution_count": 164,
   "id": "e1610062",
   "metadata": {},
   "outputs": [],
   "source": [
    "def log(message, log_file) -> None:\n",
    "    \"\"\"\n",
    "    Logs a message to the specified log file.\n",
    "    Args:\n",
    "        message (str): The message to be logged.\n",
    "        log_file (str): The path to the log file where the message will be written.\n",
    "    Returns:\n",
    "        None\n",
    "    \"\"\"\n",
    "    timestamp_format = '%Y-%h-%d-%H:%M:%S' # Year-Monthname-Day-Hour-Minute-Second \n",
    "    now = datetime.now() # get current timestamp \n",
    "    timestamp = now.strftime(timestamp_format) \n",
    "    with open(\"./etl_project_log.txt\",\"a\") as f: \n",
    "        f.write(timestamp + ' : ' + message + '\\n')"
   ]
  },
  {
   "cell_type": "code",
   "execution_count": 167,
   "id": "7755104b",
   "metadata": {},
   "outputs": [
    {
     "data": {
      "text/html": [
       "<div>\n",
       "<style scoped>\n",
       "    .dataframe tbody tr th:only-of-type {\n",
       "        vertical-align: middle;\n",
       "    }\n",
       "\n",
       "    .dataframe tbody tr th {\n",
       "        vertical-align: top;\n",
       "    }\n",
       "\n",
       "    .dataframe thead th {\n",
       "        text-align: right;\n",
       "    }\n",
       "</style>\n",
       "<table border=\"1\" class=\"dataframe\">\n",
       "  <thead>\n",
       "    <tr style=\"text-align: right;\">\n",
       "      <th></th>\n",
       "      <th>Country</th>\n",
       "      <th>GDP_USD_billions</th>\n",
       "    </tr>\n",
       "  </thead>\n",
       "  <tbody>\n",
       "    <tr>\n",
       "      <th>0</th>\n",
       "      <td>United States</td>\n",
       "      <td>26854.60</td>\n",
       "    </tr>\n",
       "    <tr>\n",
       "      <th>1</th>\n",
       "      <td>China</td>\n",
       "      <td>19373.59</td>\n",
       "    </tr>\n",
       "    <tr>\n",
       "      <th>2</th>\n",
       "      <td>Japan</td>\n",
       "      <td>4409.74</td>\n",
       "    </tr>\n",
       "    <tr>\n",
       "      <th>3</th>\n",
       "      <td>Germany</td>\n",
       "      <td>4308.85</td>\n",
       "    </tr>\n",
       "    <tr>\n",
       "      <th>4</th>\n",
       "      <td>India</td>\n",
       "      <td>3736.88</td>\n",
       "    </tr>\n",
       "  </tbody>\n",
       "</table>\n",
       "</div>"
      ],
      "text/plain": [
       "         Country  GDP_USD_billions\n",
       "0  United States          26854.60\n",
       "1          China          19373.59\n",
       "2          Japan           4409.74\n",
       "3        Germany           4308.85\n",
       "4          India           3736.88"
      ]
     },
     "execution_count": 167,
     "metadata": {},
     "output_type": "execute_result"
    }
   ],
   "source": [
    "extract = extract_from_web(url, attributes)\n",
    "transformed = transform(extract)\n",
    "transformed.head()"
   ]
  }
 ],
 "metadata": {
  "kernelspec": {
   "display_name": "dtscience",
   "language": "python",
   "name": "python3"
  },
  "language_info": {
   "codemirror_mode": {
    "name": "ipython",
    "version": 3
   },
   "file_extension": ".py",
   "mimetype": "text/x-python",
   "name": "python",
   "nbconvert_exporter": "python",
   "pygments_lexer": "ipython3",
   "version": "3.13.5"
  }
 },
 "nbformat": 4,
 "nbformat_minor": 5
}
